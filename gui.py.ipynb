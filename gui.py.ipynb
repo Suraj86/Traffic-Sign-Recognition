{
 "cells": [
  {
   "cell_type": "code",
   "execution_count": 1,
   "id": "de6e7dda",
   "metadata": {},
   "outputs": [],
   "source": [
    "import tkinter as tk\n",
    "from tkinter import filedialog\n",
    "from tkinter import *\n",
    "from PIL import ImageTk, Image\n",
    "import numpy as np"
   ]
  },
  {
   "cell_type": "code",
   "execution_count": 2,
   "id": "1f84adbd",
   "metadata": {},
   "outputs": [],
   "source": [
    "# Load the trained model to classify sign\n",
    "from keras.models import load_model\n",
    "model = load_model('traffic_classifier.h5')"
   ]
  },
  {
   "cell_type": "code",
   "execution_count": 3,
   "id": "11573aaf",
   "metadata": {},
   "outputs": [],
   "source": [
    "# Dictionary to label all traffic signs class\n",
    "classes = {\n",
    "    1:'Speed Limit (20km/h)',\n",
    "    2:'Speed Limit (30km/h)',\n",
    "    3:'Speed Limit (50km/h)',\n",
    "    4:'Speed Limit (60km/h)',\n",
    "    5:'Speed Limit (70km/h)',\n",
    "    6:'Speed Limit (80km/h)',\n",
    "    7:'End of Speed Limit (80km/h)',\n",
    "    8:'Speed Limit (100km/h)',\n",
    "    9:'Speed Limit (120km/h)',\n",
    "    10:'No Passing',\n",
    "    11:'No Passing weigh over 3.5 tons',\n",
    "    12:'Right-of=way at intersection',\n",
    "    13:'Priority road',\n",
    "    14:'Yield',\n",
    "    15:'Stop',\n",
    "    16:'No Vehicles',\n",
    "    17:'Weigh > 3.5 tons prohibited',\n",
    "    18:'No Entry',\n",
    "    19:'General Caution',\n",
    "    20:'Dangerous Curve Left',\n",
    "    21:'Dangerous Curve Right',\n",
    "    22:'Double Curve',\n",
    "    23:'Bumpy Road',\n",
    "    24:'Slippery Road',\n",
    "    25:'Road Narrowws on the Right',\n",
    "    26:'Road Work',\n",
    "    27:'Traffic Signals',\n",
    "    28:'Pedestrians',\n",
    "    29:'Children Crossing',\n",
    "    30:'Bicycle Crossing',\n",
    "    31:'Beware of Ice/Snow',\n",
    "    32:'Wild animals Crossing',\n",
    "    33:'End Speed + Passing Limits',\n",
    "    34:'Turn Right Ahead',\n",
    "    35:'Turn Left Ahead',\n",
    "    36:'Ahead Only',\n",
    "    37:'Go Straight or Right',\n",
    "    38:'Go Straight or Left',\n",
    "    39:'Keep Right',\n",
    "    40:'Keep Left',\n",
    "    41:'Round About Mandatory',\n",
    "    42:'End no Passing',\n",
    "    43:'End no Passing weigh > 3.5 tons'\n",
    "    \n",
    "}"
   ]
  },
  {
   "cell_type": "code",
   "execution_count": 12,
   "id": "769e77c3",
   "metadata": {},
   "outputs": [],
   "source": [
    "# Initialise GUI\n",
    "top = tk.Tk()\n",
    "top.geometry('800x600')\n",
    "top.title('Traffic Sign Classification')\n",
    "top.configure(background='#CDCDCD')\n",
    "\n",
    "label = Label(top, background='#CDCDCD', font=('arial', 15, 'bold'))\n",
    "sign_image = Label(top)"
   ]
  },
  {
   "cell_type": "code",
   "execution_count": 13,
   "id": "0e4e11ff",
   "metadata": {},
   "outputs": [
    {
     "name": "stdout",
     "output_type": "stream",
     "text": [
      "Go Straight or Right\n"
     ]
    }
   ],
   "source": [
    "def classify(file_path):\n",
    "    global label_packed\n",
    "    image = Image.open(file_path)\n",
    "    image = image.resize((30,30))\n",
    "    image = np.expand_dims(image, axis=0)\n",
    "    image = np.array(image)\n",
    "    pred = np.argmax(model.predict(image), axis=-1)[0]\n",
    "    sign = classes[pred+1]\n",
    "    print(sign)\n",
    "    label.configure(foreground='#011638', text=sign)\n",
    "\n",
    "def show_classify_button(file_path):\n",
    "    classify_b = Button(top, text=\"Classify Image\", \n",
    "                        command=lambda:classify(file_path), padx=10, pady=5)\n",
    "    classify_b.configure(background='#364156', foreground='white', font=('arial',10,'bold'))\n",
    "    classify_b.place(relx=0.79, rely=0.46)\n",
    "    \n",
    "def upload_image():\n",
    "    try:\n",
    "        file_path=filedialog.askopenfilename()\n",
    "        uploaded = Image.open(file_path)\n",
    "        uploaded.thumbnail(((top.winfo_width()/2.25), (top.winfo_height()/2.25)))\n",
    "        im = ImageTk.PhotoImage(uploaded)\n",
    "        \n",
    "        sign_image.configure(image=im)\n",
    "        sign_image.image = im\n",
    "        label.configure(text='')\n",
    "        show_classify_button(file_path)\n",
    "    except:\n",
    "        pass\n",
    "    \n",
    "upload = Button(top, text=\"Upload An Image\", command=upload_image, padx=10, pady=5)\n",
    "upload.configure(background='#364156', foreground='white', font=('arial',10,'bold'))\n",
    "\n",
    "upload.pack(side=BOTTOM, pady=50)\n",
    "sign_image.pack(side=BOTTOM, expand=True)\n",
    "label.pack(side=BOTTOM, expand=True)\n",
    "heading = Label(top, text=\"Know Your Traffic Sign\", pady=20, font=('arial',20,'bold'))\n",
    "heading.configure(background='#CDCDCD', foreground='#364156')\n",
    "heading.pack()\n",
    "top.mainloop()"
   ]
  },
  {
   "cell_type": "code",
   "execution_count": null,
   "id": "c69a3429",
   "metadata": {},
   "outputs": [],
   "source": []
  },
  {
   "cell_type": "code",
   "execution_count": null,
   "id": "6e9850d7",
   "metadata": {},
   "outputs": [],
   "source": []
  },
  {
   "cell_type": "code",
   "execution_count": null,
   "id": "a679c9a5",
   "metadata": {},
   "outputs": [],
   "source": []
  },
  {
   "cell_type": "code",
   "execution_count": null,
   "id": "471cbcfe",
   "metadata": {},
   "outputs": [],
   "source": []
  },
  {
   "cell_type": "code",
   "execution_count": null,
   "id": "5e847221",
   "metadata": {},
   "outputs": [],
   "source": []
  },
  {
   "cell_type": "code",
   "execution_count": null,
   "id": "44f8e329",
   "metadata": {},
   "outputs": [],
   "source": []
  },
  {
   "cell_type": "code",
   "execution_count": null,
   "id": "5473b3bd",
   "metadata": {},
   "outputs": [],
   "source": []
  },
  {
   "cell_type": "code",
   "execution_count": null,
   "id": "5d733453",
   "metadata": {},
   "outputs": [],
   "source": []
  },
  {
   "cell_type": "code",
   "execution_count": null,
   "id": "b7219d71",
   "metadata": {},
   "outputs": [],
   "source": []
  },
  {
   "cell_type": "code",
   "execution_count": null,
   "id": "b0c9140f",
   "metadata": {},
   "outputs": [],
   "source": []
  }
 ],
 "metadata": {
  "kernelspec": {
   "display_name": "Python 3 (ipykernel)",
   "language": "python",
   "name": "python3"
  },
  "language_info": {
   "codemirror_mode": {
    "name": "ipython",
    "version": 3
   },
   "file_extension": ".py",
   "mimetype": "text/x-python",
   "name": "python",
   "nbconvert_exporter": "python",
   "pygments_lexer": "ipython3",
   "version": "3.8.8"
  }
 },
 "nbformat": 4,
 "nbformat_minor": 5
}
